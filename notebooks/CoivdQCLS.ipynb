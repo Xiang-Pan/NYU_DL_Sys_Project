{
 "cells": [
  {
   "cell_type": "markdown",
   "metadata": {},
   "source": [
    "# Process"
   ]
  },
  {
   "cell_type": "code",
   "execution_count": 1,
   "metadata": {},
   "outputs": [
    {
     "data": {
      "text/plain": [
       "'/mnt/sda/Labs/NYU_DL_Sys_Project/notebooks'"
      ]
     },
     "execution_count": 1,
     "metadata": {},
     "output_type": "execute_result"
    }
   ],
   "source": [
    "pwd"
   ]
  },
  {
   "cell_type": "code",
   "execution_count": 2,
   "metadata": {},
   "outputs": [
    {
     "name": "stdout",
     "output_type": "stream",
     "text": [
      "/mnt/sda/Labs/NYU_DL_Sys_Project\n"
     ]
    }
   ],
   "source": [
    "cd .."
   ]
  },
  {
   "cell_type": "code",
   "execution_count": 19,
   "metadata": {},
   "outputs": [],
   "source": [
    "import pandas as pd\n",
    "import numpy as np"
   ]
  },
  {
   "cell_type": "code",
   "execution_count": 20,
   "metadata": {},
   "outputs": [],
   "source": [
    "df = pd.read_csv(\"./cached_datasets/COVID-Q/final_master_dataset.csv\")"
   ]
  },
  {
   "cell_type": "code",
   "execution_count": 21,
   "metadata": {},
   "outputs": [
    {
     "data": {
      "text/plain": [
       "Index(['Category', 'Question ID', 'Question', 'Source', 'Answers'], dtype='object')"
      ]
     },
     "execution_count": 21,
     "metadata": {},
     "output_type": "execute_result"
    }
   ],
   "source": [
    "df.keys()"
   ]
  },
  {
   "cell_type": "code",
   "execution_count": 22,
   "metadata": {},
   "outputs": [
    {
     "data": {
      "text/plain": [
       "42      True\n",
       "92      True\n",
       "75      True\n",
       "39      True\n",
       "1       True\n",
       "       ...  \n",
       "267    False\n",
       "263    False\n",
       "262    False\n",
       "261    False\n",
       "697    False\n",
       "Name: Question ID, Length: 575, dtype: bool"
      ]
     },
     "execution_count": 22,
     "metadata": {},
     "output_type": "execute_result"
    }
   ],
   "source": [
    "# get value counts more than one\n",
    "(df[\"Question ID\"].value_counts() > 1)"
   ]
  },
  {
   "cell_type": "code",
   "execution_count": 23,
   "metadata": {},
   "outputs": [],
   "source": [
    "df[\"Category\"] = df[\"Category\"].astype(str)"
   ]
  },
  {
   "cell_type": "code",
   "execution_count": 24,
   "metadata": {},
   "outputs": [],
   "source": [
    "# remove \"nan\"\n",
    "df = df[df[\"Category\"] != \"nan\"]"
   ]
  },
  {
   "cell_type": "code",
   "execution_count": 25,
   "metadata": {},
   "outputs": [
    {
     "data": {
      "text/plain": [
       "1245"
      ]
     },
     "execution_count": 25,
     "metadata": {},
     "output_type": "execute_result"
    }
   ],
   "source": [
    "len(df)"
   ]
  },
  {
   "cell_type": "code",
   "execution_count": 45,
   "metadata": {},
   "outputs": [],
   "source": [
    "df[\"Question\"] = df[\"Question\"].astype(str)"
   ]
  },
  {
   "cell_type": "code",
   "execution_count": 48,
   "metadata": {},
   "outputs": [],
   "source": [
    "# remove \"nan\"\n",
    "df = df[df[\"Question\"] != \"nan\"]"
   ]
  },
  {
   "cell_type": "code",
   "execution_count": 50,
   "metadata": {},
   "outputs": [],
   "source": [
    "df[\"cate_str\"]=df.Category.map(lambda x: x.split(\"-\")[0].strip())"
   ]
  },
  {
   "cell_type": "code",
   "execution_count": 51,
   "metadata": {},
   "outputs": [
    {
     "data": {
      "text/plain": [
       "Transmission           231\n",
       "Prevention             121\n",
       "Societal Effects       114\n",
       "Societal Response       95\n",
       "Reporting               79\n",
       "Origin                  75\n",
       "Treatment               71\n",
       "Testing                 63\n",
       "Comparison              61\n",
       "Individual Response     57\n",
       "Economic Effects        55\n",
       "Speculation             53\n",
       "Nomenclature            50\n",
       "Having COVID            49\n",
       "Symptoms                38\n",
       "Other                   32\n",
       "Name: cate_str, dtype: int64"
      ]
     },
     "execution_count": 51,
     "metadata": {},
     "output_type": "execute_result"
    }
   ],
   "source": [
    "df[\"cate_str\"].value_counts()"
   ]
  },
  {
   "cell_type": "code",
   "execution_count": 52,
   "metadata": {},
   "outputs": [
    {
     "data": {
      "text/plain": [
       "16"
      ]
     },
     "execution_count": 52,
     "metadata": {},
     "output_type": "execute_result"
    }
   ],
   "source": [
    "len(df[\"cate_str\"].value_counts().keys())"
   ]
  },
  {
   "cell_type": "code",
   "execution_count": 53,
   "metadata": {},
   "outputs": [],
   "source": [
    "# get category mapping\n",
    "cate_str = df[\"cate_str\"].value_counts().to_dict().keys()\n",
    "cate_str = list(cate_str)\n",
    "cate_d = {cate_str[i]: i for i in range(len(cate_str))}"
   ]
  },
  {
   "cell_type": "code",
   "execution_count": 54,
   "metadata": {},
   "outputs": [],
   "source": [
    "df[\"cate_id\"] = df[\"cate_str\"].map(cate_d)"
   ]
  },
  {
   "cell_type": "code",
   "execution_count": 57,
   "metadata": {},
   "outputs": [
    {
     "data": {
      "text/html": [
       "<div>\n",
       "<style scoped>\n",
       "    .dataframe tbody tr th:only-of-type {\n",
       "        vertical-align: middle;\n",
       "    }\n",
       "\n",
       "    .dataframe tbody tr th {\n",
       "        vertical-align: top;\n",
       "    }\n",
       "\n",
       "    .dataframe thead th {\n",
       "        text-align: right;\n",
       "    }\n",
       "</style>\n",
       "<table border=\"1\" class=\"dataframe\">\n",
       "  <thead>\n",
       "    <tr style=\"text-align: right;\">\n",
       "      <th></th>\n",
       "      <th>Category</th>\n",
       "      <th>Question ID</th>\n",
       "      <th>Question</th>\n",
       "      <th>Source</th>\n",
       "      <th>Answers</th>\n",
       "      <th>cate_str</th>\n",
       "      <th>cate_id</th>\n",
       "    </tr>\n",
       "  </thead>\n",
       "  <tbody>\n",
       "    <tr>\n",
       "      <th>0</th>\n",
       "      <td>Speculation - Pandemic Duration</td>\n",
       "      <td>42</td>\n",
       "      <td>will covid end soon</td>\n",
       "      <td>Google Search</td>\n",
       "      <td>may 1st, i think, is completely unrealistic, s...</td>\n",
       "      <td>Speculation</td>\n",
       "      <td>11</td>\n",
       "    </tr>\n",
       "    <tr>\n",
       "      <th>1</th>\n",
       "      <td>Speculation - Pandemic Duration</td>\n",
       "      <td>42</td>\n",
       "      <td>will covid end</td>\n",
       "      <td>Yahoo Search</td>\n",
       "      <td>may 1st, i think, is completely unrealistic, s...</td>\n",
       "      <td>Speculation</td>\n",
       "      <td>11</td>\n",
       "    </tr>\n",
       "    <tr>\n",
       "      <th>2</th>\n",
       "      <td>Speculation - Pandemic Duration</td>\n",
       "      <td>42</td>\n",
       "      <td>when covid will be over</td>\n",
       "      <td>Google Search</td>\n",
       "      <td>may 1st, i think, is completely unrealistic, s...</td>\n",
       "      <td>Speculation</td>\n",
       "      <td>11</td>\n",
       "    </tr>\n",
       "    <tr>\n",
       "      <th>3</th>\n",
       "      <td>Speculation - Pandemic Duration</td>\n",
       "      <td>42</td>\n",
       "      <td>when covid lockdown ends</td>\n",
       "      <td>Google Search</td>\n",
       "      <td>may 1st, i think, is completely unrealistic, s...</td>\n",
       "      <td>Speculation</td>\n",
       "      <td>11</td>\n",
       "    </tr>\n",
       "    <tr>\n",
       "      <th>4</th>\n",
       "      <td>Speculation - Pandemic Duration</td>\n",
       "      <td>42</td>\n",
       "      <td>will covid go away</td>\n",
       "      <td>Google Search</td>\n",
       "      <td>may 1st, i think, is completely unrealistic, s...</td>\n",
       "      <td>Speculation</td>\n",
       "      <td>11</td>\n",
       "    </tr>\n",
       "    <tr>\n",
       "      <th>...</th>\n",
       "      <td>...</td>\n",
       "      <td>...</td>\n",
       "      <td>...</td>\n",
       "      <td>...</td>\n",
       "      <td>...</td>\n",
       "      <td>...</td>\n",
       "      <td>...</td>\n",
       "    </tr>\n",
       "    <tr>\n",
       "      <th>1240</th>\n",
       "      <td>Reporting - Media Coverup</td>\n",
       "      <td>634</td>\n",
       "      <td>is the media hiding what is really going on in...</td>\n",
       "      <td>Quora</td>\n",
       "      <td>NaN</td>\n",
       "      <td>Reporting</td>\n",
       "      <td>4</td>\n",
       "    </tr>\n",
       "    <tr>\n",
       "      <th>1241</th>\n",
       "      <td>Treatment - Quinine</td>\n",
       "      <td>650</td>\n",
       "      <td>can quinine be taken to fight this covid virus</td>\n",
       "      <td>Quora</td>\n",
       "      <td>NaN</td>\n",
       "      <td>Treatment</td>\n",
       "      <td>6</td>\n",
       "    </tr>\n",
       "    <tr>\n",
       "      <th>1242</th>\n",
       "      <td>Treatment - Quinine</td>\n",
       "      <td>650</td>\n",
       "      <td>why is quinine effective in curing covid</td>\n",
       "      <td>Quora</td>\n",
       "      <td>NaN</td>\n",
       "      <td>Treatment</td>\n",
       "      <td>6</td>\n",
       "    </tr>\n",
       "    <tr>\n",
       "      <th>1243</th>\n",
       "      <td>Other - Food Shortages</td>\n",
       "      <td>126</td>\n",
       "      <td>could we run out of things to eat</td>\n",
       "      <td>Author Generated</td>\n",
       "      <td>NaN</td>\n",
       "      <td>Other</td>\n",
       "      <td>15</td>\n",
       "    </tr>\n",
       "    <tr>\n",
       "      <th>1244</th>\n",
       "      <td>Other - Food Shortages</td>\n",
       "      <td>126</td>\n",
       "      <td>do i need to stock up on food</td>\n",
       "      <td>Author Generated</td>\n",
       "      <td>NaN</td>\n",
       "      <td>Other</td>\n",
       "      <td>15</td>\n",
       "    </tr>\n",
       "  </tbody>\n",
       "</table>\n",
       "<p>1244 rows × 7 columns</p>\n",
       "</div>"
      ],
      "text/plain": [
       "                             Category  Question ID  \\\n",
       "0     Speculation - Pandemic Duration           42   \n",
       "1     Speculation - Pandemic Duration           42   \n",
       "2     Speculation - Pandemic Duration           42   \n",
       "3     Speculation - Pandemic Duration           42   \n",
       "4     Speculation - Pandemic Duration           42   \n",
       "...                               ...          ...   \n",
       "1240        Reporting - Media Coverup          634   \n",
       "1241              Treatment - Quinine          650   \n",
       "1242              Treatment - Quinine          650   \n",
       "1243           Other - Food Shortages          126   \n",
       "1244           Other - Food Shortages          126   \n",
       "\n",
       "                                               Question            Source  \\\n",
       "0                                   will covid end soon     Google Search   \n",
       "1                                        will covid end      Yahoo Search   \n",
       "2                               when covid will be over     Google Search   \n",
       "3                              when covid lockdown ends     Google Search   \n",
       "4                                    will covid go away     Google Search   \n",
       "...                                                 ...               ...   \n",
       "1240  is the media hiding what is really going on in...             Quora   \n",
       "1241     can quinine be taken to fight this covid virus             Quora   \n",
       "1242           why is quinine effective in curing covid             Quora   \n",
       "1243                  could we run out of things to eat  Author Generated   \n",
       "1244                      do i need to stock up on food  Author Generated   \n",
       "\n",
       "                                                Answers     cate_str  cate_id  \n",
       "0     may 1st, i think, is completely unrealistic, s...  Speculation       11  \n",
       "1     may 1st, i think, is completely unrealistic, s...  Speculation       11  \n",
       "2     may 1st, i think, is completely unrealistic, s...  Speculation       11  \n",
       "3     may 1st, i think, is completely unrealistic, s...  Speculation       11  \n",
       "4     may 1st, i think, is completely unrealistic, s...  Speculation       11  \n",
       "...                                                 ...          ...      ...  \n",
       "1240                                                NaN    Reporting        4  \n",
       "1241                                                NaN    Treatment        6  \n",
       "1242                                                NaN    Treatment        6  \n",
       "1243                                                NaN        Other       15  \n",
       "1244                                                NaN        Other       15  \n",
       "\n",
       "[1244 rows x 7 columns]"
      ]
     },
     "execution_count": 57,
     "metadata": {},
     "output_type": "execute_result"
    }
   ],
   "source": [
    "df"
   ]
  },
  {
   "cell_type": "code",
   "execution_count": 58,
   "metadata": {},
   "outputs": [],
   "source": [
    "df.to_csv(\"./cached_datasets/COVID-Q/full.csv\", index=False)"
   ]
  },
  {
   "cell_type": "code",
   "execution_count": 59,
   "metadata": {},
   "outputs": [
    {
     "name": "stdout",
     "output_type": "stream",
     "text": [
      "1244\n"
     ]
    }
   ],
   "source": [
    "# random split to train/val/test\n",
    "# shuffle\n",
    "df = df.sample(frac=1)\n",
    "print(len(df))\n",
    "train_df = df.iloc[:int(len(df) * 0.9)]\n",
    "# val_df = df.iloc[int(len(df) * 0.8):int(len(df) * 0.9)]\n",
    "test_df = df.iloc[int(len(df) * 0.9):]\n",
    "train_df.to_csv(\"./cached_datasets/CovidQCLS/train.csv\", index=False)\n",
    "# val_df.to_csv(\"./cached_datasets/CovidQCLS/val.csv\", index=False)\n",
    "test_df.to_csv(\"./cached_datasets/CovidQCLS/test.csv\", index=False)"
   ]
  },
  {
   "cell_type": "code",
   "execution_count": 60,
   "metadata": {},
   "outputs": [],
   "source": [
    "qcls_task_mapping = {\n",
    "    \"Question\": \"x\",\n",
    "    \"cate_num\": \"y\",\n",
    "}\n",
    "import json\n",
    "s = json.dumps(qcls_task_mapping)\n",
    "f = \"./cached_datasets/CovidQCLS/qcls_task_mapping.json\"\n",
    "with open(f, \"w\") as f:\n",
    "    f.write(s)"
   ]
  },
  {
   "cell_type": "markdown",
   "metadata": {},
   "source": [
    "# Load Dataset"
   ]
  },
  {
   "cell_type": "code",
   "execution_count": 21,
   "metadata": {},
   "outputs": [
    {
     "name": "stderr",
     "output_type": "stream",
     "text": [
      "Using custom data configuration XiangPan--CovidQCLS-7e3933dad573b442\n",
      "Reusing dataset csv (/home/xiangpan/.cache/huggingface/datasets/csv/XiangPan--CovidQCLS-7e3933dad573b442/0.0.0/433e0ccc46f9880962cc2b12065189766fbb2bee57a221866138fb9203c83519)\n"
     ]
    },
    {
     "data": {
      "application/vnd.jupyter.widget-view+json": {
       "model_id": "a7aef178e8044e1baa6af752ed50a4f3",
       "version_major": 2,
       "version_minor": 0
      },
      "text/plain": [
       "  0%|          | 0/2 [00:00<?, ?it/s]"
      ]
     },
     "metadata": {},
     "output_type": "display_data"
    }
   ],
   "source": [
    "import datasets\n",
    "from datasets import load_dataset\n",
    "\n",
    "\n",
    "dataset = load_dataset(\"XiangPan/CovidQCLS\")\n",
    "qcls_task_mapping = {\n",
    "    \"Question\": \"x\",\n",
    "    \"cate_num\": \"y\",\n",
    "}"
   ]
  },
  {
   "cell_type": "code",
   "execution_count": 22,
   "metadata": {},
   "outputs": [
    {
     "data": {
      "text/plain": [
       "DatasetDict({\n",
       "    train: Dataset({\n",
       "        features: ['Category', 'Question ID', 'Question', 'Source', 'Answers', 'cate_str', 'cate_id'],\n",
       "        num_rows: 1120\n",
       "    })\n",
       "    test: Dataset({\n",
       "        features: ['Category', 'Question ID', 'Question', 'Source', 'Answers', 'cate_str', 'cate_id'],\n",
       "        num_rows: 125\n",
       "    })\n",
       "})"
      ]
     },
     "execution_count": 22,
     "metadata": {},
     "output_type": "execute_result"
    }
   ],
   "source": [
    "dataset"
   ]
  },
  {
   "cell_type": "code",
   "execution_count": 29,
   "metadata": {
    "tags": []
   },
   "outputs": [
    {
     "data": {
      "text/plain": [
       "Dataset({\n",
       "    features: ['Category', 'Question ID', 'Question', 'Source', 'Answers', 'cate_str', 'cate_id'],\n",
       "    num_rows: 1120\n",
       "})"
      ]
     },
     "execution_count": 29,
     "metadata": {},
     "output_type": "execute_result"
    }
   ],
   "source": [
    "dataset[\"train\"]"
   ]
  },
  {
   "cell_type": "code",
   "execution_count": null,
   "metadata": {},
   "outputs": [],
   "source": []
  }
 ],
 "metadata": {
  "interpreter": {
   "hash": "3f9a4dd55a47a1c8809831ea0aabb012e213f9e932e7e557374d5eaf81edb6c3"
  },
  "kernelspec": {
   "display_name": "Python 3 (ipykernel)",
   "language": "python",
   "name": "python3"
  },
  "language_info": {
   "codemirror_mode": {
    "name": "ipython",
    "version": 3
   },
   "file_extension": ".py",
   "mimetype": "text/x-python",
   "name": "python",
   "nbconvert_exporter": "python",
   "pygments_lexer": "ipython3",
   "version": "3.10.0"
  },
  "widgets": {
   "application/vnd.jupyter.widget-state+json": {
    "state": {},
    "version_major": 2,
    "version_minor": 0
   }
  }
 },
 "nbformat": 4,
 "nbformat_minor": 4
}
